{
 "cells": [
  {
   "cell_type": "markdown",
   "metadata": {},
   "source": [
    "# Results processing and data viz\n",
    "## From microsimulation experiments\n",
    "\n",
    "It includes some preeliminary plots, the summary plots, and the creation of grid maps and animations"
   ]
  },
  {
   "cell_type": "code",
   "execution_count": null,
   "metadata": {},
   "outputs": [],
   "source": [
    "#imports\n",
    "import os, time\n",
    "import numpy as np\n",
    "import pandas as pd\n",
    "import matplotlib.pyplot as plt\n",
    "import matplotlib.dates as mdates\n",
    "from matplotlib import cm\n",
    "import matplotlib.colors as colors\n",
    "plt.rcParams.update({'font.size': 16})\n",
    "pd.set_option('display.max_rows', 3000)\n",
    "\n",
    "#Make sure that the SUMO_HOME environment variable is correctly set after installation:\n",
    "SUMO_HOME = r\"C:\\Program Files (x86)\\Eclipse\\Sumo\""
   ]
  },
  {
   "cell_type": "markdown",
   "metadata": {},
   "source": [
    "## Source results files"
   ]
  },
  {
   "cell_type": "code",
   "execution_count": null,
   "metadata": {},
   "outputs": [],
   "source": [
    "results_folder_net01 = r\"net01/data/results/\"\n",
    "results_folder_net02 = r\"net02/data/results/\"\n",
    "results_folder_net03 = r\"net03/data/results/\"\n",
    "results_folder_net04 = r\"net04/data/results/\""
   ]
  },
  {
   "cell_type": "markdown",
   "metadata": {},
   "source": [
    "## Traffic fundamental diagram\n",
    "Network metrics are needed for normalizing the results accross the different networks."
   ]
  },
  {
   "cell_type": "code",
   "execution_count": null,
   "metadata": {},
   "outputs": [],
   "source": [
    "#Total length of lanes for the different networks\n",
    "#These values are obtained manually from the nets, using SUMO-GUI and NETEDIT\n",
    "net_length_net01 = 53920\n",
    "\n",
    "net_length_net02_x2lanes = 2456.6 + 2516.6 + 2943.12 + 929.84 + 955.44 + 506.52 + 5373.72 + 4629.2 + 2854.32 + 1038.64 + 1503.96 + 507.32 + 504.52\n",
    "net_length_net02_x1lanes = 504.32 + 979.04 + 475.72 + 490.52 + 754.98 + 965.24 + 1904.88 + 1851.68 + 978.04 + 964.24\n",
    "net_length_net02 = net_length_net02_x2lanes + net_length_net02_x1lanes\n",
    "\n",
    "net_length_net03_x2lanes = 21186.08\n",
    "net_length_net03_x1lanes = 7263.8 + 5811.04\n",
    "net_length_net03 = net_length_net03_x2lanes + net_length_net03_x1lanes\n",
    "\n",
    "net_length_net04 = 58918.52\n",
    "\n",
    "\n",
    "# Num of edges per network\n",
    "num_edges_net01 = 220\n",
    "num_edges_net02 = 192\n",
    "num_edges_net03 = 196\n",
    "num_edges_net04 = 242"
   ]
  },
  {
   "cell_type": "markdown",
   "metadata": {},
   "source": [
    "Helper functions for transforming the original XML files that SUMO creates as results of the simulation into CSV files and then dataframes."
   ]
  },
  {
   "cell_type": "code",
   "execution_count": null,
   "metadata": {},
   "outputs": [],
   "source": [
    "# Helper function for transforming XLM output files into \n",
    "\n",
    "def transform_aadt_output_xml_to_csv(results_folder):\n",
    "    if not os.path.exists(results_folder + r\"/csv\"):\n",
    "        os.makedirs(results_folder + r\"/csv\")\n",
    "\n",
    "    for file in os.listdir(results_folder):\n",
    "        if file.endswith(\"aadt_output_freq60s.xml\"):\n",
    "            input_xml_file = str(results_folder + file)\n",
    "            output_csv_file = str(results_folder + r\"/csv/\" + file[:-3] + \"csv\")\n",
    "            # bash command\n",
    "            !python \"$SUMO_HOME\\tools\\xml\\xml2csv.py\" \\\n",
    "            --output \"{output_csv_file}\" \\\n",
    "            \"{input_xml_file}\"\n",
    "\n",
    "# Building new pandas dataframe based on summary data from the results summary csv files\n",
    "\n",
    "def create_df_for_traffic_fundamental_diagram(results_folder, net_length, num_edges):\n",
    "    \n",
    "    column_names = ['experiment', 'scale', 'lanes_length_m', 'flow', 'density', 'freq', 'edge_entered', 'edge_departed', 'edge_sampledSeconds']\n",
    "    df_output = pd.DataFrame(columns = column_names)\n",
    "    #iterate through the folder\n",
    "    for file in os.listdir(results_folder + \"/csv/\"):\n",
    "        if file.endswith(\"aadt_output_freq60s.csv\"):\n",
    "            output_csv_file =  str(results_folder + r\"/csv/\" + file)\n",
    "            scale = float(output_csv_file.split('_')[-5])\n",
    "            experiment = results_folder.split('/')[0]\n",
    "            freq = 60\n",
    "            #transform to pandas df\n",
    "            df = pd.read_csv(output_csv_file, sep=\";\")\n",
    "            #groupby\n",
    "            df_g = df.groupby('interval_begin')[['edge_entered', 'edge_departed', 'edge_sampledSeconds']].apply(sum)\n",
    "            #create variables of fundamental traffic diagram (#some refs: https://www.eclipse.org/lists/sumo-user/msg06970.html)\n",
    "            df_g['scale'] = scale\n",
    "            df_g['lanes_length_m'] = net_length\n",
    "            df_g['flow'] = (((df_g.edge_entered + df_g.edge_departed)/freq)*3600)/num_edges #maybe freq here no TODO!!!!!\n",
    "            df_g['density'] = (df_g.edge_sampledSeconds/freq)/(net_length/1000)\n",
    "            df_g['experiment'] = experiment\n",
    "            df_g['freq'] = freq\n",
    "            #merge\n",
    "            frames = [df_output, df_g]\n",
    "            df_output = pd.concat(frames)\n",
    "    \n",
    "    return df_output"
   ]
  },
  {
   "cell_type": "markdown",
   "metadata": {},
   "source": [
    "Helper functions for smoothing the data and obtaining the critical points of the fundamental diagram."
   ]
  },
  {
   "cell_type": "code",
   "execution_count": null,
   "metadata": {},
   "outputs": [],
   "source": [
    "from scipy.interpolate import pchip\n",
    "import statsmodels.api as sm\n",
    "from operator import itemgetter\n",
    "\n",
    "# COMBINING PCHIP AND LOWESS\n",
    "def fit(x,y):\n",
    "    \n",
    "    pch = pchip(x, y)\n",
    "    \n",
    "    xx = np.linspace(x[0], x[-1], 1000)\n",
    "    yy = pch(xx)\n",
    "    \n",
    "    lowess = sm.nonparametric.lowess(yy, xx, frac=0.2)\n",
    "    \n",
    "    x_lowess = lowess[:, 0]\n",
    "    y_lowess = lowess[:, 1]\n",
    "    return [x_lowess, y_lowess]\n",
    "\n",
    "\n",
    "def estimate_critical_metrics(exp_df):\n",
    "    \n",
    "    exp_df_mod = exp_df.groupby('density').mean()\n",
    "    exp_df_mod = exp_df_mod.sort_index()\n",
    "    \n",
    "    x = exp_df_mod.index\n",
    "    y = exp_df_mod.flow\n",
    "\n",
    "    [x2, y2] = fit(x, y)\n",
    "    \n",
    "    #for avoiding errors in high values in congested phase\n",
    "    _x2 = []\n",
    "    _y2 = []\n",
    "    for i in range(len(x2)):\n",
    "        if x2[i] < 80:\n",
    "            _x2.append(x2[i])\n",
    "            _y2.append(y2[i])\n",
    "    _x2 = np.array(_x2)\n",
    "    _y2 = np.array(_y2)\n",
    "        \n",
    "    max_flow = max(_y2)\n",
    "    density_at_max_flow = _x2[_y2.argmax()]\n",
    "    estimated_optimal_speed = (max_flow/density_at_max_flow) \n",
    "    return (max_flow, density_at_max_flow, estimated_optimal_speed, x2, y2)\n",
    "\n",
    "def create_df_critical_metrics():\n",
    "    \n",
    "    column_names = ['experiment', 'lanes_length_m', 'max_flow', 'density_At_max_flow', 'optim_speed']\n",
    "    df_compa = pd.DataFrame(columns = column_names)\n",
    "    \n",
    "    for df_exp in [df_tdf_002, df_tdf_032, df_tdf_052, df_tdf_102]:\n",
    "        critical_metrics = estimate_critical_metrics(df_exp)\n",
    "        df_compa.loc[len(df_compa.index)] = [df_exp.experiment.iloc[0], \n",
    "                                             df_exp.lanes_length_m.iloc[0], \n",
    "                                             critical_metrics[0], \n",
    "                                             critical_metrics[1], \n",
    "                                             critical_metrics[2]]\n",
    "    \n",
    "    return df_compa"
   ]
  },
  {
   "cell_type": "code",
   "execution_count": null,
   "metadata": {},
   "outputs": [],
   "source": [
    "transform_aadt_output_xml_to_csv(results_folder_net01)\n",
    "transform_aadt_output_xml_to_csv(results_folder_net02)\n",
    "transform_aadt_output_xml_to_csv(results_folder_net03)\n",
    "transform_aadt_output_xml_to_csv(results_folder_net04)\n",
    "\n",
    "df_tdf_002 = create_df_for_traffic_fundamental_diagram(results_folder_net01, net_length_net01, num_edges_net01)\n",
    "df_tdf_032 = create_df_for_traffic_fundamental_diagram(results_folder_net02, net_length_net02, num_edges_net02)\n",
    "df_tdf_052 = create_df_for_traffic_fundamental_diagram(results_folder_net03, net_length_net03, num_edges_net03)\n",
    "df_tdf_102 = create_df_for_traffic_fundamental_diagram(results_folder_net04, net_length_net04, num_edges_net04)"
   ]
  },
  {
   "cell_type": "code",
   "execution_count": null,
   "metadata": {},
   "outputs": [],
   "source": [
    "df_critical_metrics = create_df_critical_metrics()\n",
    "df_critical_metrics"
   ]
  },
  {
   "cell_type": "markdown",
   "metadata": {},
   "source": [
    "## Viz\n",
    "Basic fundamental diagrams comparison"
   ]
  },
  {
   "cell_type": "code",
   "execution_count": null,
   "metadata": {},
   "outputs": [],
   "source": [
    "# Make directory for comparative fundamental diagrams\n",
    "if not os.path.exists(r\"charts\"):\n",
    "    os.makedirs(r\"charts\")"
   ]
  },
  {
   "cell_type": "code",
   "execution_count": null,
   "metadata": {},
   "outputs": [],
   "source": [
    "fig, ax = plt.subplots(nrows=1, ncols=1, figsize=(20,15), sharex=True, \n",
    "                       gridspec_kw={'hspace': 0, 'wspace': 0})\n",
    "\n",
    "fig.suptitle('Fundamental diagram of traffic flow', fontsize=16, y=0.9)\n",
    "col = [\"#648FFF\", \"#DC267F\", \"#FE0000\", \"#FFB000\"]\n",
    "# col = [\"#9b7000\", \"#23d980\", \"#01ffff\", \"#004fff\"] #INVERT\n",
    "\n",
    "ax.scatter(df_tdf_002.density, df_tdf_002['flow'], color=col[0], s=50, alpha=0.05)\n",
    "ax.scatter(df_tdf_032.density, df_tdf_032['flow'], color=col[1], s=50, alpha=0.05)\n",
    "ax.scatter(df_tdf_052.density, df_tdf_052['flow'], color=col[2], s=50, alpha=0.05)\n",
    "ax.scatter(df_tdf_102.density, df_tdf_102['flow'], color=col[3], s=50, alpha=0.05)\n",
    "\n",
    "ax.plot(estimate_critical_metrics(df_tdf_002)[3], estimate_critical_metrics(df_tdf_002)[4], color=col[0], label=\"net01 (existing situation)\")\n",
    "ax.plot(estimate_critical_metrics(df_tdf_032)[3], estimate_critical_metrics(df_tdf_032)[4], color=col[1], label=\"net02 (Cerda's original grid)\")\n",
    "ax.plot(estimate_critical_metrics(df_tdf_052)[3], estimate_critical_metrics(df_tdf_052)[4], color=col[2], label=\"net03 (Superblocks grid)\")\n",
    "ax.plot(estimate_critical_metrics(df_tdf_102)[3], estimate_critical_metrics(df_tdf_102)[4], color=col[3], label=\"net04 (w/ diagonal avenue)\")\n",
    "\n",
    "ax.set_ylabel('Flow (veh/h) - per edge of the network')\n",
    "ax.set_xlabel('Density (veh/km)')\n",
    "ax.legend(loc=\"upper right\")\n",
    "ax.set_xlim(-5,140)\n",
    "ax.set_ylim(-50,1400)\n",
    "ax.axhline(y=0, xmin=-0.05, xmax=0.1, color=(0.25, 0.25, 0.25, 0.25))\n",
    "ax.axvline(x=0, ymin=-0.05, ymax=0.1, color=(0.25, 0.25, 0.25, 0.25))\n",
    "\n",
    "fig.savefig(\"charts/MFD01_compar_01-02-03-04_micro.png\",\n",
    "        orientation='portrait',\n",
    "        transparent=True, bbox_inches='tight', pad_inches=0,\n",
    "        frameon=None, metadata=None)"
   ]
  },
  {
   "cell_type": "markdown",
   "metadata": {},
   "source": [
    "Fundamental diagram comparison with scale values for each simulation"
   ]
  },
  {
   "cell_type": "code",
   "execution_count": null,
   "metadata": {},
   "outputs": [],
   "source": [
    "fig, ax = plt.subplots(nrows=1, ncols=1, figsize=(25,15), sharex=True, \n",
    "                       gridspec_kw={'hspace': 0, 'wspace': 0})\n",
    "\n",
    "color_002 = cm.get_cmap('coolwarm')\n",
    "\n",
    "fig.suptitle('Fundamental diagram of traffic flow with scale', fontsize=16, y=0.9)\n",
    "\n",
    "ax.scatter(df_tdf_002.density, df_tdf_002['flow'], marker='o', s=100, alpha=0.1, color=color_002(df_tdf_002.scale/2), label=\"net01 (existing situation). Sampling points\")\n",
    "ax.scatter(df_tdf_032.density, df_tdf_032['flow'], marker='+', s=100, alpha=0.25, color=color_002(df_tdf_032.scale/2), label=\"net02 (Cerda's original grid). Sampling points\")\n",
    "ax.scatter(df_tdf_052.density, df_tdf_052['flow'], marker='^', s=100, alpha=0.25, color=color_002(df_tdf_052.scale/2), label=\"net03 (Superblocks grid). Sampling points\")\n",
    "ax.scatter(df_tdf_102.density, df_tdf_102['flow'], marker='x', s=100, alpha=0.1, color=color_002(df_tdf_102.scale/2), label=\"net04 (w/ diagonal avenue). Sampling points\")\n",
    "\n",
    "ax.plot(estimate_critical_metrics(df_tdf_002)[3], estimate_critical_metrics(df_tdf_002)[4], color=col[0], lw=3, label=\"net01 (existing situation). Trend line\")\n",
    "ax.plot(estimate_critical_metrics(df_tdf_032)[3], estimate_critical_metrics(df_tdf_032)[4], color=col[1], lw=3, label=\"net02 (Cerda's original grid). Trend line\")\n",
    "ax.plot(estimate_critical_metrics(df_tdf_052)[3], estimate_critical_metrics(df_tdf_052)[4], color=col[2], lw=3, label=\"net03 (Superblocks grid). Trend line\")\n",
    "ax.plot(estimate_critical_metrics(df_tdf_102)[3], estimate_critical_metrics(df_tdf_102)[4], color=col[3], lw=3, label=\"net04 (w/ diagonal avenue). Trend line\")\n",
    "\n",
    "ax.set_ylabel('Flow (veh/s)')\n",
    "ax.set_xlabel('Density (veh/km)')\n",
    "ax.legend(loc=\"upper right\")\n",
    "ax.set_xlim(-5,140)\n",
    "ax.set_ylim(-50,1400)\n",
    "ax.axhline(y=0, xmin=-0.05, xmax=0.1, color=(0.25, 0.25, 0.25, 0.25))\n",
    "ax.axvline(x=0, ymin=-0.05, ymax=0.1, color=(0.25, 0.25, 0.25, 0.25))\n",
    "\n",
    "cNorm  = colors.Normalize(vmin=0, vmax=2)\n",
    "scalarMap = cm.ScalarMappable(norm=cNorm, cmap=color_002)\n",
    "scalarMap.set_array([])\n",
    "cbar = fig.colorbar(scalarMap,ax=ax, aspect=40)\n",
    "cbar.set_label('scale of demand load (1 = current adjusted demand)', rotation=270,  labelpad=-70)\n",
    "\n",
    "fig.savefig(\"charts/MFD02_compar_01-02-03-04_micro.png\", dpi=None,\n",
    "        orientation='portrait', papertype=None, format=None,\n",
    "        transparent=True, bbox_inches='tight', pad_inches=0,\n",
    "        frameon=None, metadata=None)"
   ]
  }
 ],
 "metadata": {
  "kernelspec": {
   "display_name": "Python 3 (ipykernel)",
   "language": "python",
   "name": "python3"
  },
  "language_info": {
   "codemirror_mode": {
    "name": "ipython",
    "version": 3
   },
   "file_extension": ".py",
   "mimetype": "text/x-python",
   "name": "python",
   "nbconvert_exporter": "python",
   "pygments_lexer": "ipython3",
   "version": "3.8.12"
  }
 },
 "nbformat": 4,
 "nbformat_minor": 4
}
